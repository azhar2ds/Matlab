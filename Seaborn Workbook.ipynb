{
 "cells": [
  {
   "cell_type": "code",
   "execution_count": null,
   "metadata": {},
   "outputs": [],
   "source": [
    "import numpy as np\n",
    "import pandas as pd\n",
    "import seaborn as sns\n",
    "from scipy import stats\n",
    "import matplotlib as mpl\n",
    "import matplotlib.pyplot as plt\n",
    "sns.set(style=\"ticks\")\n",
    "np.random.seed(sum(map(ord, \"axis_grids\")))\n",
    "%matplotlib inline"
   ]
  },
  {
   "cell_type": "markdown",
   "metadata": {},
   "source": [
    "***1) How many modules are there in Seaborn library***"
   ]
  },
  {
   "cell_type": "code",
   "execution_count": null,
   "metadata": {},
   "outputs": [],
   "source": [
    "print(\"Actual Seaborn library:\", len(dir(sns)))\n",
    "print(\"seaborn.FacetGrid\", len(dir(sns.FacetGrid)))\n",
    "print(\"seaborn.JointGrid\", len(dir(sns.JointGrid)))\n",
    "print(\"seaborn.PairGrid\", len(dir(sns.PairGrid)))\n",
    "print(\"seaborn.algorithms\", len(dir(sns.algorithms)))\n",
    "print(\"seaborn.axes_style\", len(dir(sns.axes_style)))\n",
    "print(\"seaborn.axisgrid\", len(dir(sns.axisgrid)))\n",
    "print(\"seaborn.barplot\", len(dir(sns.barplot)))\n",
    "print(\"seaborn.boxplot\", len(dir(sns.boxplot)))\n",
    "print(\"seaborn.distplot\", len(dir(sns.distplot)))\n",
    "print(\"seaborn.scatterplot\", len(dir(sns.scatterplot)))      \n",
    "print(\"seaborn.tsplot\", len(dir(sns.tsplot)))\n",
    "print(\"seaborn.stripplot\", len(dir(sns.stripplot)))\n",
    "print(\"seaborn.palplot\", len(dir(sns.palplot)))"
   ]
  },
  {
   "cell_type": "code",
   "execution_count": null,
   "metadata": {},
   "outputs": [],
   "source": [
    "dataset = sns.load_dataset('titanic')\n",
    "print(dataset.columns)\n",
    "sns.distplot(dataset['fare'])"
   ]
  },
  {
   "cell_type": "code",
   "execution_count": null,
   "metadata": {},
   "outputs": [],
   "source": [
    "sns.distplot(dataset['fare'], kde=False)"
   ]
  },
  {
   "cell_type": "code",
   "execution_count": null,
   "metadata": {},
   "outputs": [],
   "source": [
    "sns.distplot(dataset['fare'], kde=False, bins=10)"
   ]
  },
  {
   "cell_type": "code",
   "execution_count": null,
   "metadata": {},
   "outputs": [],
   "source": [
    "sns.jointplot(x='age', y='fare', data=dataset)"
   ]
  },
  {
   "cell_type": "code",
   "execution_count": null,
   "metadata": {},
   "outputs": [],
   "source": [
    "sns.jointplot(x='age', y='fare', data=dataset, kind='hex')\n"
   ]
  },
  {
   "cell_type": "code",
   "execution_count": null,
   "metadata": {},
   "outputs": [],
   "source": [
    "dataset = dataset.dropna()"
   ]
  },
  {
   "cell_type": "code",
   "execution_count": null,
   "metadata": {},
   "outputs": [],
   "source": [
    "sns.rugplot(dataset['fare'])"
   ]
  },
  {
   "cell_type": "markdown",
   "metadata": {},
   "source": [
    "Categorical Plots\n",
    "\n",
    "The Bar Plot"
   ]
  },
  {
   "cell_type": "code",
   "execution_count": null,
   "metadata": {},
   "outputs": [],
   "source": [
    "sns.countplot(x='sex', data=dataset)"
   ]
  },
  {
   "cell_type": "markdown",
   "metadata": {},
   "source": [
    "The Box Plot"
   ]
  },
  {
   "cell_type": "code",
   "execution_count": null,
   "metadata": {},
   "outputs": [],
   "source": [
    "sns.boxplot(x='sex', y='age', data=dataset)"
   ]
  },
  {
   "cell_type": "code",
   "execution_count": null,
   "metadata": {},
   "outputs": [],
   "source": [
    "i=pd.read_csv('income.csv')\n",
    "sns.barplot(x='cars',y='saving', data=i, label=\"Cars Data\", color=\"skyblue\")\n",
    "sns.lineplot(x='cars',y='saving', data=i,label=\"LinePlot\", color=\"r\")\n",
    "sns.swarmplot(x='cars',y='saving', data=i,label=\"SwarmPlot\", color=\"steelblue\")\n",
    "#sns.relplot(x='cars',y='no_of_cars', data=i, label=\"Cars Collections\", height=3, kind='line', color='skyblue')"
   ]
  },
  {
   "cell_type": "markdown",
   "metadata": {},
   "source": [
    "# Barplot"
   ]
  },
  {
   "cell_type": "markdown",
   "metadata": {},
   "source": [
    "***1) Bar plotting using dataset***"
   ]
  },
  {
   "cell_type": "markdown",
   "metadata": {},
   "source": [
    "#seaborn.barplot(x=None, y=None, hue=None, data=None, order=None, hue_order=None, estimator=<function mean>,\n",
    "ci=95, n_boot=1000,units=None, orient=None, color=None, palette=None, saturation=0.75, errcolor='.26',\n",
    "errwidth=None, capsize=None, dodge=True, ax=None, **kwargs)"
   ]
  },
  {
   "cell_type": "code",
   "execution_count": null,
   "metadata": {},
   "outputs": [],
   "source": [
    "sns.barplot(x='sex', y='age', data=dataset)"
   ]
  },
  {
   "cell_type": "code",
   "execution_count": null,
   "metadata": {},
   "outputs": [],
   "source": [
    "sns.barplot(x='sex', y='age', data=dataset, estimator=np.std)"
   ]
  },
  {
   "cell_type": "code",
   "execution_count": null,
   "metadata": {},
   "outputs": [],
   "source": [
    "d=pd.read_csv('cars.csv')\n",
    "company=d.groupby(['manufacturer']).size().to_frame('company').reset_index()\n",
    "#grouping the attributes\n",
    "companies=list(company['manufacturer'])#making a list\n",
    "number=list(company['company'])#making a list\n",
    "d2 = pd.DataFrame({'Companies' : companies, 'Numbers' : number })\n",
    "#Converting 2 list into one Dataframe\n",
    "sns.barplot(x='Numbers', y='Companies', data = d2)"
   ]
  },
  {
   "cell_type": "code",
   "execution_count": null,
   "metadata": {},
   "outputs": [],
   "source": [
    "d=pd.read_csv('cars.csv')\n",
    "cars_data=d.groupby(['manufacturer']).size().to_frame('no_of_cars').reset_index()\n",
    "sns.barplot(x='no_of_cars',y='manufacturer', data=cars_data, label=\"Cars Collections\", color=\"blue\")"
   ]
  },
  {
   "cell_type": "code",
   "execution_count": null,
   "metadata": {},
   "outputs": [],
   "source": [
    "i=pd.read_csv('income.csv')\n",
    "print(i.columns)\n",
    "sns.barplot(x='cars',y='saving', data=i, label=\"Cars Data\",ci=99,saturation=0.88, capsize=0.21,palette=\"winter\")"
   ]
  },
  {
   "cell_type": "code",
   "execution_count": null,
   "metadata": {},
   "outputs": [],
   "source": [
    "i=pd.read_csv('income.csv')\n",
    "sns.lineplot(x='cars',y='saving', data=i,label=\"LinePlot\", color=\"r\")"
   ]
  },
  {
   "cell_type": "code",
   "execution_count": null,
   "metadata": {},
   "outputs": [],
   "source": [
    "d=pd.read_csv('cars.csv')\n",
    "cars_data=d.groupby(['manufacturer']).size().to_frame('no_of_cars').reset_index()\n",
    "a=sns.relplot(x='manufacturer',y='no_of_cars', data=cars_data, label=\"Cars Collections\")\n",
    "a.fig.autofmt_xdate()"
   ]
  },
  {
   "cell_type": "code",
   "execution_count": null,
   "metadata": {},
   "outputs": [],
   "source": [
    "d=pd.read_csv('income.csv')\n",
    "data=d.groupby(['cars']).size().to_frame('no_of_cars').reset_index()\n",
    "sns.relplot(x='cars',y='no_of_cars', data=data, label=\"Cars Collections\", height=3, kind='line')"
   ]
  },
  {
   "cell_type": "code",
   "execution_count": null,
   "metadata": {},
   "outputs": [],
   "source": [
    "sns.relplot(x='cars',y='no_of_cars', data=data, label=\"Cars Collections\", height=4)"
   ]
  },
  {
   "cell_type": "code",
   "execution_count": null,
   "metadata": {},
   "outputs": [],
   "source": [
    "sns.relplot(x='cars',y='no_of_cars', data=data, label=\"Cars Collections\", height=4, kind='scatter')"
   ]
  },
  {
   "cell_type": "code",
   "execution_count": null,
   "metadata": {},
   "outputs": [],
   "source": [
    "i=pd.read_csv('income.csv')\n",
    "sns.swarmplot(x='cars',y='saving', data=i,label=\"SwarmPlot\", color=\"skyblue\")"
   ]
  },
  {
   "cell_type": "code",
   "execution_count": null,
   "metadata": {},
   "outputs": [],
   "source": [
    "d=pd.read_csv('income.csv')\n",
    "sns.relplot(x='income', y='expenses', data=d, hue='diabetics',height=3, kind='line')"
   ]
  },
  {
   "cell_type": "markdown",
   "metadata": {},
   "source": [
    "Categorical scatterplots:\n",
    "                        stripplot() (with kind=”strip”; the default)\n",
    "                        swarmplot() (with kind=”swarm”)\n",
    "\n",
    "Categorical distribution plots:\n",
    "                        boxplot() (with kind=”box”)\n",
    "                        violinplot() (with kind=”violin”)\n",
    "                        boxenplot() (with kind=”boxen”)\n",
    "\n",
    "Categorical estimate plots:\n",
    "                        pointplot() (with kind=”point”)\n",
    "                        barplot() (with kind=”bar”)\n",
    "                        countplot() (with kind=”count”)"
   ]
  }
 ],
 "metadata": {
  "kernelspec": {
   "display_name": "Python 3",
   "language": "python",
   "name": "python3"
  },
  "language_info": {
   "codemirror_mode": {
    "name": "ipython",
    "version": 3
   },
   "file_extension": ".py",
   "mimetype": "text/x-python",
   "name": "python",
   "nbconvert_exporter": "python",
   "pygments_lexer": "ipython3",
   "version": "3.7.3"
  }
 },
 "nbformat": 4,
 "nbformat_minor": 2
}
